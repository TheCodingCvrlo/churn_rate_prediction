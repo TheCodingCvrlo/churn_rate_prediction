{
 "cells": [
  {
   "cell_type": "markdown",
   "id": "aeca708c",
   "metadata": {},
   "source": [
    "# Churn Rate prediction for Credit Card Customers"
   ]
  },
  {
   "cell_type": "code",
   "execution_count": 1,
   "id": "259e3124",
   "metadata": {
    "scrolled": true
   },
   "outputs": [
    {
     "name": "stdout",
     "output_type": "stream",
     "text": [
      "SkLearn 1.0.2\n",
      "Numpy 1.21.5\n",
      "Pandas 1.4.2\n"
     ]
    }
   ],
   "source": [
    "import numpy as np\n",
    "import matplotlib.pyplot as plt\n",
    "import os\n",
    "import pandas as pd\n",
    "import sklearn\n",
    "print(f'SkLearn {sklearn.__version__}\\nNumpy {np.__version__}\\nPandas {pd.__version__}')"
   ]
  },
  {
   "cell_type": "markdown",
   "id": "a9f00abc",
   "metadata": {},
   "source": [
    "# Importing the Data"
   ]
  },
  {
   "cell_type": "markdown",
   "id": "be2ea503",
   "metadata": {},
   "source": [
    "Link to the Kaggle dataset\n",
    "https://www.kaggle.com/datasets/sakshigoyal7/credit-card-customers"
   ]
  },
  {
   "cell_type": "code",
   "execution_count": 2,
   "id": "b23f216e",
   "metadata": {},
   "outputs": [],
   "source": [
    "#change to make it work on any device (use API)\n",
    "path = \"C:\\\\Users\\\\carlo\\\\Desktop\\\\MACHINE LEARNING\\\\DATASETS\\\\churn\\\\BankChurners.csv\"\n",
    "cst = pd.read_csv(path)\n"
   ]
  },
  {
   "cell_type": "code",
   "execution_count": 3,
   "id": "800f0e93",
   "metadata": {
    "scrolled": true
   },
   "outputs": [],
   "source": [
    "#dropping useless features (partly based on file description found on Kaggle)\n",
    "cst.drop(['Avg_Utilization_Ratio','Months_on_book','Avg_Open_To_Buy','CLIENTNUM'],axis = 1, inplace = True)\n",
    "cst.drop([cst.columns[-1], cst.columns[-2]],axis = 1,inplace = True)"
   ]
  },
  {
   "cell_type": "markdown",
   "id": "99b9aff5",
   "metadata": {},
   "source": [
    "# Visualizing the Data"
   ]
  },
  {
   "cell_type": "code",
   "execution_count": 63,
   "id": "a609c13b",
   "metadata": {
    "scrolled": false
   },
   "outputs": [
    {
     "data": {
      "text/html": [
       "<div>\n",
       "<style scoped>\n",
       "    .dataframe tbody tr th:only-of-type {\n",
       "        vertical-align: middle;\n",
       "    }\n",
       "\n",
       "    .dataframe tbody tr th {\n",
       "        vertical-align: top;\n",
       "    }\n",
       "\n",
       "    .dataframe thead th {\n",
       "        text-align: right;\n",
       "    }\n",
       "</style>\n",
       "<table border=\"1\" class=\"dataframe\">\n",
       "  <thead>\n",
       "    <tr style=\"text-align: right;\">\n",
       "      <th></th>\n",
       "      <th>Attrition_Flag</th>\n",
       "      <th>Customer_Age</th>\n",
       "      <th>Gender</th>\n",
       "      <th>Dependent_count</th>\n",
       "      <th>Education_Level</th>\n",
       "      <th>Marital_Status</th>\n",
       "      <th>Income_Category</th>\n",
       "      <th>Card_Category</th>\n",
       "      <th>Total_Relationship_Count</th>\n",
       "      <th>Months_Inactive_12_mon</th>\n",
       "      <th>Contacts_Count_12_mon</th>\n",
       "      <th>Credit_Limit</th>\n",
       "      <th>Total_Revolving_Bal</th>\n",
       "      <th>Total_Amt_Chng_Q4_Q1</th>\n",
       "      <th>Total_Trans_Amt</th>\n",
       "      <th>Total_Trans_Ct</th>\n",
       "      <th>Total_Ct_Chng_Q4_Q1</th>\n",
       "    </tr>\n",
       "  </thead>\n",
       "  <tbody>\n",
       "    <tr>\n",
       "      <th>0</th>\n",
       "      <td>Existing Customer</td>\n",
       "      <td>45</td>\n",
       "      <td>M</td>\n",
       "      <td>3</td>\n",
       "      <td>High School</td>\n",
       "      <td>Married</td>\n",
       "      <td>$60K - $80K</td>\n",
       "      <td>Blue</td>\n",
       "      <td>5</td>\n",
       "      <td>1</td>\n",
       "      <td>3</td>\n",
       "      <td>12691.0</td>\n",
       "      <td>777</td>\n",
       "      <td>1.335</td>\n",
       "      <td>1144</td>\n",
       "      <td>42</td>\n",
       "      <td>1.625</td>\n",
       "    </tr>\n",
       "    <tr>\n",
       "      <th>1</th>\n",
       "      <td>Existing Customer</td>\n",
       "      <td>49</td>\n",
       "      <td>F</td>\n",
       "      <td>5</td>\n",
       "      <td>Graduate</td>\n",
       "      <td>Single</td>\n",
       "      <td>Less than $40K</td>\n",
       "      <td>Blue</td>\n",
       "      <td>6</td>\n",
       "      <td>1</td>\n",
       "      <td>2</td>\n",
       "      <td>8256.0</td>\n",
       "      <td>864</td>\n",
       "      <td>1.541</td>\n",
       "      <td>1291</td>\n",
       "      <td>33</td>\n",
       "      <td>3.714</td>\n",
       "    </tr>\n",
       "    <tr>\n",
       "      <th>2</th>\n",
       "      <td>Existing Customer</td>\n",
       "      <td>51</td>\n",
       "      <td>M</td>\n",
       "      <td>3</td>\n",
       "      <td>Graduate</td>\n",
       "      <td>Married</td>\n",
       "      <td>$80K - $120K</td>\n",
       "      <td>Blue</td>\n",
       "      <td>4</td>\n",
       "      <td>1</td>\n",
       "      <td>0</td>\n",
       "      <td>3418.0</td>\n",
       "      <td>0</td>\n",
       "      <td>2.594</td>\n",
       "      <td>1887</td>\n",
       "      <td>20</td>\n",
       "      <td>2.333</td>\n",
       "    </tr>\n",
       "    <tr>\n",
       "      <th>3</th>\n",
       "      <td>Existing Customer</td>\n",
       "      <td>40</td>\n",
       "      <td>F</td>\n",
       "      <td>4</td>\n",
       "      <td>High School</td>\n",
       "      <td>Unknown</td>\n",
       "      <td>Less than $40K</td>\n",
       "      <td>Blue</td>\n",
       "      <td>3</td>\n",
       "      <td>4</td>\n",
       "      <td>1</td>\n",
       "      <td>3313.0</td>\n",
       "      <td>2517</td>\n",
       "      <td>1.405</td>\n",
       "      <td>1171</td>\n",
       "      <td>20</td>\n",
       "      <td>2.333</td>\n",
       "    </tr>\n",
       "    <tr>\n",
       "      <th>4</th>\n",
       "      <td>Existing Customer</td>\n",
       "      <td>40</td>\n",
       "      <td>M</td>\n",
       "      <td>3</td>\n",
       "      <td>Uneducated</td>\n",
       "      <td>Married</td>\n",
       "      <td>$60K - $80K</td>\n",
       "      <td>Blue</td>\n",
       "      <td>5</td>\n",
       "      <td>1</td>\n",
       "      <td>0</td>\n",
       "      <td>4716.0</td>\n",
       "      <td>0</td>\n",
       "      <td>2.175</td>\n",
       "      <td>816</td>\n",
       "      <td>28</td>\n",
       "      <td>2.500</td>\n",
       "    </tr>\n",
       "  </tbody>\n",
       "</table>\n",
       "</div>"
      ],
      "text/plain": [
       "      Attrition_Flag  Customer_Age Gender  Dependent_count Education_Level  \\\n",
       "0  Existing Customer            45      M                3     High School   \n",
       "1  Existing Customer            49      F                5        Graduate   \n",
       "2  Existing Customer            51      M                3        Graduate   \n",
       "3  Existing Customer            40      F                4     High School   \n",
       "4  Existing Customer            40      M                3      Uneducated   \n",
       "\n",
       "  Marital_Status Income_Category Card_Category  Total_Relationship_Count  \\\n",
       "0        Married     $60K - $80K          Blue                         5   \n",
       "1         Single  Less than $40K          Blue                         6   \n",
       "2        Married    $80K - $120K          Blue                         4   \n",
       "3        Unknown  Less than $40K          Blue                         3   \n",
       "4        Married     $60K - $80K          Blue                         5   \n",
       "\n",
       "   Months_Inactive_12_mon  Contacts_Count_12_mon  Credit_Limit  \\\n",
       "0                       1                      3       12691.0   \n",
       "1                       1                      2        8256.0   \n",
       "2                       1                      0        3418.0   \n",
       "3                       4                      1        3313.0   \n",
       "4                       1                      0        4716.0   \n",
       "\n",
       "   Total_Revolving_Bal  Total_Amt_Chng_Q4_Q1  Total_Trans_Amt  Total_Trans_Ct  \\\n",
       "0                  777                 1.335             1144              42   \n",
       "1                  864                 1.541             1291              33   \n",
       "2                    0                 2.594             1887              20   \n",
       "3                 2517                 1.405             1171              20   \n",
       "4                    0                 2.175              816              28   \n",
       "\n",
       "   Total_Ct_Chng_Q4_Q1  \n",
       "0                1.625  \n",
       "1                3.714  \n",
       "2                2.333  \n",
       "3                2.333  \n",
       "4                2.500  "
      ]
     },
     "execution_count": 63,
     "metadata": {},
     "output_type": "execute_result"
    }
   ],
   "source": [
    "cst.head()"
   ]
  },
  {
   "cell_type": "markdown",
   "id": "772e39d9",
   "metadata": {},
   "source": [
    "Issues:\n",
    "1. data is not standardized\n",
    "2. many categorical features to be encoded\n",
    "3. output is categorical"
   ]
  },
  {
   "cell_type": "code",
   "execution_count": 64,
   "id": "471b31e4",
   "metadata": {
    "collapsed": true
   },
   "outputs": [
    {
     "data": {
      "text/html": [
       "<div>\n",
       "<style scoped>\n",
       "    .dataframe tbody tr th:only-of-type {\n",
       "        vertical-align: middle;\n",
       "    }\n",
       "\n",
       "    .dataframe tbody tr th {\n",
       "        vertical-align: top;\n",
       "    }\n",
       "\n",
       "    .dataframe thead th {\n",
       "        text-align: right;\n",
       "    }\n",
       "</style>\n",
       "<table border=\"1\" class=\"dataframe\">\n",
       "  <thead>\n",
       "    <tr style=\"text-align: right;\">\n",
       "      <th></th>\n",
       "      <th>Attributes</th>\n",
       "    </tr>\n",
       "  </thead>\n",
       "  <tbody>\n",
       "    <tr>\n",
       "      <th>0</th>\n",
       "      <td>Attrition_Flag</td>\n",
       "    </tr>\n",
       "    <tr>\n",
       "      <th>1</th>\n",
       "      <td>Customer_Age</td>\n",
       "    </tr>\n",
       "    <tr>\n",
       "      <th>2</th>\n",
       "      <td>Gender</td>\n",
       "    </tr>\n",
       "    <tr>\n",
       "      <th>3</th>\n",
       "      <td>Dependent_count</td>\n",
       "    </tr>\n",
       "    <tr>\n",
       "      <th>4</th>\n",
       "      <td>Education_Level</td>\n",
       "    </tr>\n",
       "    <tr>\n",
       "      <th>5</th>\n",
       "      <td>Marital_Status</td>\n",
       "    </tr>\n",
       "    <tr>\n",
       "      <th>6</th>\n",
       "      <td>Income_Category</td>\n",
       "    </tr>\n",
       "    <tr>\n",
       "      <th>7</th>\n",
       "      <td>Card_Category</td>\n",
       "    </tr>\n",
       "    <tr>\n",
       "      <th>8</th>\n",
       "      <td>Total_Relationship_Count</td>\n",
       "    </tr>\n",
       "    <tr>\n",
       "      <th>9</th>\n",
       "      <td>Months_Inactive_12_mon</td>\n",
       "    </tr>\n",
       "    <tr>\n",
       "      <th>10</th>\n",
       "      <td>Contacts_Count_12_mon</td>\n",
       "    </tr>\n",
       "    <tr>\n",
       "      <th>11</th>\n",
       "      <td>Credit_Limit</td>\n",
       "    </tr>\n",
       "    <tr>\n",
       "      <th>12</th>\n",
       "      <td>Total_Revolving_Bal</td>\n",
       "    </tr>\n",
       "    <tr>\n",
       "      <th>13</th>\n",
       "      <td>Total_Amt_Chng_Q4_Q1</td>\n",
       "    </tr>\n",
       "    <tr>\n",
       "      <th>14</th>\n",
       "      <td>Total_Trans_Amt</td>\n",
       "    </tr>\n",
       "    <tr>\n",
       "      <th>15</th>\n",
       "      <td>Total_Trans_Ct</td>\n",
       "    </tr>\n",
       "    <tr>\n",
       "      <th>16</th>\n",
       "      <td>Total_Ct_Chng_Q4_Q1</td>\n",
       "    </tr>\n",
       "  </tbody>\n",
       "</table>\n",
       "</div>"
      ],
      "text/plain": [
       "                  Attributes\n",
       "0             Attrition_Flag\n",
       "1               Customer_Age\n",
       "2                     Gender\n",
       "3            Dependent_count\n",
       "4            Education_Level\n",
       "5             Marital_Status\n",
       "6            Income_Category\n",
       "7              Card_Category\n",
       "8   Total_Relationship_Count\n",
       "9     Months_Inactive_12_mon\n",
       "10     Contacts_Count_12_mon\n",
       "11              Credit_Limit\n",
       "12       Total_Revolving_Bal\n",
       "13      Total_Amt_Chng_Q4_Q1\n",
       "14           Total_Trans_Amt\n",
       "15            Total_Trans_Ct\n",
       "16       Total_Ct_Chng_Q4_Q1"
      ]
     },
     "execution_count": 64,
     "metadata": {},
     "output_type": "execute_result"
    }
   ],
   "source": [
    "pd.DataFrame(cst.columns, columns = ['Attributes'])"
   ]
  },
  {
   "cell_type": "code",
   "execution_count": 65,
   "id": "beb7f074",
   "metadata": {
    "collapsed": true
   },
   "outputs": [
    {
     "name": "stdout",
     "output_type": "stream",
     "text": [
      "<class 'pandas.core.frame.DataFrame'>\n",
      "RangeIndex: 10127 entries, 0 to 10126\n",
      "Data columns (total 17 columns):\n",
      " #   Column                    Non-Null Count  Dtype  \n",
      "---  ------                    --------------  -----  \n",
      " 0   Attrition_Flag            10127 non-null  object \n",
      " 1   Customer_Age              10127 non-null  int64  \n",
      " 2   Gender                    10127 non-null  object \n",
      " 3   Dependent_count           10127 non-null  int64  \n",
      " 4   Education_Level           10127 non-null  object \n",
      " 5   Marital_Status            10127 non-null  object \n",
      " 6   Income_Category           10127 non-null  object \n",
      " 7   Card_Category             10127 non-null  object \n",
      " 8   Total_Relationship_Count  10127 non-null  int64  \n",
      " 9   Months_Inactive_12_mon    10127 non-null  int64  \n",
      " 10  Contacts_Count_12_mon     10127 non-null  int64  \n",
      " 11  Credit_Limit              10127 non-null  float64\n",
      " 12  Total_Revolving_Bal       10127 non-null  int64  \n",
      " 13  Total_Amt_Chng_Q4_Q1      10127 non-null  float64\n",
      " 14  Total_Trans_Amt           10127 non-null  int64  \n",
      " 15  Total_Trans_Ct            10127 non-null  int64  \n",
      " 16  Total_Ct_Chng_Q4_Q1       10127 non-null  float64\n",
      "dtypes: float64(3), int64(8), object(6)\n",
      "memory usage: 1.3+ MB\n"
     ]
    }
   ],
   "source": [
    "cst.info()"
   ]
  },
  {
   "cell_type": "markdown",
   "id": "ed65ab64",
   "metadata": {},
   "source": [
    "No missing values, however by further inspection one can notice that missing values are simply replace by a string whose value is 'Unknown'"
   ]
  },
  {
   "cell_type": "code",
   "execution_count": 66,
   "id": "3c5a8335",
   "metadata": {},
   "outputs": [
    {
     "data": {
      "text/plain": [
       "Graduate         3128\n",
       "High School      2013\n",
       "Unknown          1519\n",
       "Uneducated       1487\n",
       "College          1013\n",
       "Post-Graduate     516\n",
       "Doctorate         451\n",
       "Name: Education_Level, dtype: int64"
      ]
     },
     "execution_count": 66,
     "metadata": {},
     "output_type": "execute_result"
    }
   ],
   "source": [
    "cst['Education_Level'].value_counts()"
   ]
  },
  {
   "cell_type": "code",
   "execution_count": 67,
   "id": "5e1c27aa",
   "metadata": {},
   "outputs": [
    {
     "data": {
      "text/plain": [
       "Less than $40K    3561\n",
       "$40K - $60K       1790\n",
       "$80K - $120K      1535\n",
       "$60K - $80K       1402\n",
       "Unknown           1112\n",
       "$120K +            727\n",
       "Name: Income_Category, dtype: int64"
      ]
     },
     "execution_count": 67,
     "metadata": {},
     "output_type": "execute_result"
    }
   ],
   "source": [
    "cst['Income_Category'].value_counts()"
   ]
  },
  {
   "cell_type": "code",
   "execution_count": 4,
   "id": "9a88b1a5",
   "metadata": {},
   "outputs": [],
   "source": [
    "from sklearn.preprocessing import FunctionTransformer\n",
    "\n",
    "\n",
    "# could simply use replace on the dataset, wanted to \n",
    "# experiment with pipelines\n",
    "\n",
    "def replace_unks(X, columns, vals):\n",
    "    for col,val in zip(columns, vals):\n",
    "        X[col].replace(val, np.nan, inplace = True)\n",
    "    return X\n",
    "\n",
    "# replaces specific values from specific columns with np.nan\n",
    "\n",
    "unk_to_nan = FunctionTransformer(replace_unks, kw_args = {'columns': ['Education_Level','Income_Category'], 'vals':['Unknown', 'Unknown']})\n"
   ]
  },
  {
   "cell_type": "code",
   "execution_count": 5,
   "id": "d647c20c",
   "metadata": {},
   "outputs": [
    {
     "data": {
      "text/html": [
       "<div>\n",
       "<style scoped>\n",
       "    .dataframe tbody tr th:only-of-type {\n",
       "        vertical-align: middle;\n",
       "    }\n",
       "\n",
       "    .dataframe tbody tr th {\n",
       "        vertical-align: top;\n",
       "    }\n",
       "\n",
       "    .dataframe thead th {\n",
       "        text-align: right;\n",
       "    }\n",
       "</style>\n",
       "<table border=\"1\" class=\"dataframe\">\n",
       "  <thead>\n",
       "    <tr style=\"text-align: right;\">\n",
       "      <th></th>\n",
       "      <th>Attrition_Flag</th>\n",
       "      <th>Customer_Age</th>\n",
       "      <th>Gender</th>\n",
       "      <th>Dependent_count</th>\n",
       "      <th>Education_Level</th>\n",
       "      <th>Marital_Status</th>\n",
       "      <th>Income_Category</th>\n",
       "      <th>Card_Category</th>\n",
       "      <th>Total_Relationship_Count</th>\n",
       "      <th>Months_Inactive_12_mon</th>\n",
       "      <th>Contacts_Count_12_mon</th>\n",
       "      <th>Credit_Limit</th>\n",
       "      <th>Total_Revolving_Bal</th>\n",
       "      <th>Total_Amt_Chng_Q4_Q1</th>\n",
       "      <th>Total_Trans_Amt</th>\n",
       "      <th>Total_Trans_Ct</th>\n",
       "      <th>Total_Ct_Chng_Q4_Q1</th>\n",
       "    </tr>\n",
       "  </thead>\n",
       "  <tbody>\n",
       "    <tr>\n",
       "      <th>0</th>\n",
       "      <td>Existing Customer</td>\n",
       "      <td>45</td>\n",
       "      <td>M</td>\n",
       "      <td>3</td>\n",
       "      <td>High School</td>\n",
       "      <td>Married</td>\n",
       "      <td>$60K - $80K</td>\n",
       "      <td>Blue</td>\n",
       "      <td>5</td>\n",
       "      <td>1</td>\n",
       "      <td>3</td>\n",
       "      <td>12691.0</td>\n",
       "      <td>777</td>\n",
       "      <td>1.335</td>\n",
       "      <td>1144</td>\n",
       "      <td>42</td>\n",
       "      <td>1.625</td>\n",
       "    </tr>\n",
       "    <tr>\n",
       "      <th>1</th>\n",
       "      <td>Existing Customer</td>\n",
       "      <td>49</td>\n",
       "      <td>F</td>\n",
       "      <td>5</td>\n",
       "      <td>Graduate</td>\n",
       "      <td>Single</td>\n",
       "      <td>Less than $40K</td>\n",
       "      <td>Blue</td>\n",
       "      <td>6</td>\n",
       "      <td>1</td>\n",
       "      <td>2</td>\n",
       "      <td>8256.0</td>\n",
       "      <td>864</td>\n",
       "      <td>1.541</td>\n",
       "      <td>1291</td>\n",
       "      <td>33</td>\n",
       "      <td>3.714</td>\n",
       "    </tr>\n",
       "    <tr>\n",
       "      <th>2</th>\n",
       "      <td>Existing Customer</td>\n",
       "      <td>51</td>\n",
       "      <td>M</td>\n",
       "      <td>3</td>\n",
       "      <td>Graduate</td>\n",
       "      <td>Married</td>\n",
       "      <td>$80K - $120K</td>\n",
       "      <td>Blue</td>\n",
       "      <td>4</td>\n",
       "      <td>1</td>\n",
       "      <td>0</td>\n",
       "      <td>3418.0</td>\n",
       "      <td>0</td>\n",
       "      <td>2.594</td>\n",
       "      <td>1887</td>\n",
       "      <td>20</td>\n",
       "      <td>2.333</td>\n",
       "    </tr>\n",
       "    <tr>\n",
       "      <th>3</th>\n",
       "      <td>Existing Customer</td>\n",
       "      <td>40</td>\n",
       "      <td>F</td>\n",
       "      <td>4</td>\n",
       "      <td>High School</td>\n",
       "      <td>Unknown</td>\n",
       "      <td>Less than $40K</td>\n",
       "      <td>Blue</td>\n",
       "      <td>3</td>\n",
       "      <td>4</td>\n",
       "      <td>1</td>\n",
       "      <td>3313.0</td>\n",
       "      <td>2517</td>\n",
       "      <td>1.405</td>\n",
       "      <td>1171</td>\n",
       "      <td>20</td>\n",
       "      <td>2.333</td>\n",
       "    </tr>\n",
       "    <tr>\n",
       "      <th>4</th>\n",
       "      <td>Existing Customer</td>\n",
       "      <td>40</td>\n",
       "      <td>M</td>\n",
       "      <td>3</td>\n",
       "      <td>Uneducated</td>\n",
       "      <td>Married</td>\n",
       "      <td>$60K - $80K</td>\n",
       "      <td>Blue</td>\n",
       "      <td>5</td>\n",
       "      <td>1</td>\n",
       "      <td>0</td>\n",
       "      <td>4716.0</td>\n",
       "      <td>0</td>\n",
       "      <td>2.175</td>\n",
       "      <td>816</td>\n",
       "      <td>28</td>\n",
       "      <td>2.500</td>\n",
       "    </tr>\n",
       "    <tr>\n",
       "      <th>...</th>\n",
       "      <td>...</td>\n",
       "      <td>...</td>\n",
       "      <td>...</td>\n",
       "      <td>...</td>\n",
       "      <td>...</td>\n",
       "      <td>...</td>\n",
       "      <td>...</td>\n",
       "      <td>...</td>\n",
       "      <td>...</td>\n",
       "      <td>...</td>\n",
       "      <td>...</td>\n",
       "      <td>...</td>\n",
       "      <td>...</td>\n",
       "      <td>...</td>\n",
       "      <td>...</td>\n",
       "      <td>...</td>\n",
       "      <td>...</td>\n",
       "    </tr>\n",
       "    <tr>\n",
       "      <th>10122</th>\n",
       "      <td>Existing Customer</td>\n",
       "      <td>50</td>\n",
       "      <td>M</td>\n",
       "      <td>2</td>\n",
       "      <td>Graduate</td>\n",
       "      <td>Single</td>\n",
       "      <td>$40K - $60K</td>\n",
       "      <td>Blue</td>\n",
       "      <td>3</td>\n",
       "      <td>2</td>\n",
       "      <td>3</td>\n",
       "      <td>4003.0</td>\n",
       "      <td>1851</td>\n",
       "      <td>0.703</td>\n",
       "      <td>15476</td>\n",
       "      <td>117</td>\n",
       "      <td>0.857</td>\n",
       "    </tr>\n",
       "    <tr>\n",
       "      <th>10123</th>\n",
       "      <td>Attrited Customer</td>\n",
       "      <td>41</td>\n",
       "      <td>M</td>\n",
       "      <td>2</td>\n",
       "      <td>NaN</td>\n",
       "      <td>Divorced</td>\n",
       "      <td>$40K - $60K</td>\n",
       "      <td>Blue</td>\n",
       "      <td>4</td>\n",
       "      <td>2</td>\n",
       "      <td>3</td>\n",
       "      <td>4277.0</td>\n",
       "      <td>2186</td>\n",
       "      <td>0.804</td>\n",
       "      <td>8764</td>\n",
       "      <td>69</td>\n",
       "      <td>0.683</td>\n",
       "    </tr>\n",
       "    <tr>\n",
       "      <th>10124</th>\n",
       "      <td>Attrited Customer</td>\n",
       "      <td>44</td>\n",
       "      <td>F</td>\n",
       "      <td>1</td>\n",
       "      <td>High School</td>\n",
       "      <td>Married</td>\n",
       "      <td>Less than $40K</td>\n",
       "      <td>Blue</td>\n",
       "      <td>5</td>\n",
       "      <td>3</td>\n",
       "      <td>4</td>\n",
       "      <td>5409.0</td>\n",
       "      <td>0</td>\n",
       "      <td>0.819</td>\n",
       "      <td>10291</td>\n",
       "      <td>60</td>\n",
       "      <td>0.818</td>\n",
       "    </tr>\n",
       "    <tr>\n",
       "      <th>10125</th>\n",
       "      <td>Attrited Customer</td>\n",
       "      <td>30</td>\n",
       "      <td>M</td>\n",
       "      <td>2</td>\n",
       "      <td>Graduate</td>\n",
       "      <td>Unknown</td>\n",
       "      <td>$40K - $60K</td>\n",
       "      <td>Blue</td>\n",
       "      <td>4</td>\n",
       "      <td>3</td>\n",
       "      <td>3</td>\n",
       "      <td>5281.0</td>\n",
       "      <td>0</td>\n",
       "      <td>0.535</td>\n",
       "      <td>8395</td>\n",
       "      <td>62</td>\n",
       "      <td>0.722</td>\n",
       "    </tr>\n",
       "    <tr>\n",
       "      <th>10126</th>\n",
       "      <td>Attrited Customer</td>\n",
       "      <td>43</td>\n",
       "      <td>F</td>\n",
       "      <td>2</td>\n",
       "      <td>Graduate</td>\n",
       "      <td>Married</td>\n",
       "      <td>Less than $40K</td>\n",
       "      <td>Silver</td>\n",
       "      <td>6</td>\n",
       "      <td>2</td>\n",
       "      <td>4</td>\n",
       "      <td>10388.0</td>\n",
       "      <td>1961</td>\n",
       "      <td>0.703</td>\n",
       "      <td>10294</td>\n",
       "      <td>61</td>\n",
       "      <td>0.649</td>\n",
       "    </tr>\n",
       "  </tbody>\n",
       "</table>\n",
       "<p>10127 rows × 17 columns</p>\n",
       "</div>"
      ],
      "text/plain": [
       "          Attrition_Flag  Customer_Age Gender  Dependent_count  \\\n",
       "0      Existing Customer            45      M                3   \n",
       "1      Existing Customer            49      F                5   \n",
       "2      Existing Customer            51      M                3   \n",
       "3      Existing Customer            40      F                4   \n",
       "4      Existing Customer            40      M                3   \n",
       "...                  ...           ...    ...              ...   \n",
       "10122  Existing Customer            50      M                2   \n",
       "10123  Attrited Customer            41      M                2   \n",
       "10124  Attrited Customer            44      F                1   \n",
       "10125  Attrited Customer            30      M                2   \n",
       "10126  Attrited Customer            43      F                2   \n",
       "\n",
       "      Education_Level Marital_Status Income_Category Card_Category  \\\n",
       "0         High School        Married     $60K - $80K          Blue   \n",
       "1            Graduate         Single  Less than $40K          Blue   \n",
       "2            Graduate        Married    $80K - $120K          Blue   \n",
       "3         High School        Unknown  Less than $40K          Blue   \n",
       "4          Uneducated        Married     $60K - $80K          Blue   \n",
       "...               ...            ...             ...           ...   \n",
       "10122        Graduate         Single     $40K - $60K          Blue   \n",
       "10123             NaN       Divorced     $40K - $60K          Blue   \n",
       "10124     High School        Married  Less than $40K          Blue   \n",
       "10125        Graduate        Unknown     $40K - $60K          Blue   \n",
       "10126        Graduate        Married  Less than $40K        Silver   \n",
       "\n",
       "       Total_Relationship_Count  Months_Inactive_12_mon  \\\n",
       "0                             5                       1   \n",
       "1                             6                       1   \n",
       "2                             4                       1   \n",
       "3                             3                       4   \n",
       "4                             5                       1   \n",
       "...                         ...                     ...   \n",
       "10122                         3                       2   \n",
       "10123                         4                       2   \n",
       "10124                         5                       3   \n",
       "10125                         4                       3   \n",
       "10126                         6                       2   \n",
       "\n",
       "       Contacts_Count_12_mon  Credit_Limit  Total_Revolving_Bal  \\\n",
       "0                          3       12691.0                  777   \n",
       "1                          2        8256.0                  864   \n",
       "2                          0        3418.0                    0   \n",
       "3                          1        3313.0                 2517   \n",
       "4                          0        4716.0                    0   \n",
       "...                      ...           ...                  ...   \n",
       "10122                      3        4003.0                 1851   \n",
       "10123                      3        4277.0                 2186   \n",
       "10124                      4        5409.0                    0   \n",
       "10125                      3        5281.0                    0   \n",
       "10126                      4       10388.0                 1961   \n",
       "\n",
       "       Total_Amt_Chng_Q4_Q1  Total_Trans_Amt  Total_Trans_Ct  \\\n",
       "0                     1.335             1144              42   \n",
       "1                     1.541             1291              33   \n",
       "2                     2.594             1887              20   \n",
       "3                     1.405             1171              20   \n",
       "4                     2.175              816              28   \n",
       "...                     ...              ...             ...   \n",
       "10122                 0.703            15476             117   \n",
       "10123                 0.804             8764              69   \n",
       "10124                 0.819            10291              60   \n",
       "10125                 0.535             8395              62   \n",
       "10126                 0.703            10294              61   \n",
       "\n",
       "       Total_Ct_Chng_Q4_Q1  \n",
       "0                    1.625  \n",
       "1                    3.714  \n",
       "2                    2.333  \n",
       "3                    2.333  \n",
       "4                    2.500  \n",
       "...                    ...  \n",
       "10122                0.857  \n",
       "10123                0.683  \n",
       "10124                0.818  \n",
       "10125                0.722  \n",
       "10126                0.649  \n",
       "\n",
       "[10127 rows x 17 columns]"
      ]
     },
     "execution_count": 5,
     "metadata": {},
     "output_type": "execute_result"
    }
   ],
   "source": [
    "#FIXED (CURRENTLY RUNNING ON SKLEARN 1.0+)\n",
    "\n",
    "unk_to_nan.fit_transform(cst)\n",
    "\n",
    "# on sklearn <0.24, one needs to impute unknowns to a numerical\n",
    "# value and then replace with Nans and impute/drop"
   ]
  },
  {
   "cell_type": "code",
   "execution_count": 6,
   "id": "fe675dd8",
   "metadata": {
    "scrolled": false
   },
   "outputs": [
    {
     "data": {
      "image/png": "[encoded data removed]",
      "text/plain": [
       "<Figure size 1440x1080 with 12 Axes>"
      ]
     },
     "metadata": {
      "needs_background": "light"
     },
     "output_type": "display_data"
    }
   ],
   "source": [
    "cst.hist(figsize = (20,15))\n",
    "plt.show()"
   ]
  },
  {
   "cell_type": "markdown",
   "id": "4589e3ed",
   "metadata": {},
   "source": [
    "# Train/Test split"
   ]
  },
  {
   "cell_type": "code",
   "execution_count": 12,
   "id": "183fc2b3",
   "metadata": {},
   "outputs": [],
   "source": [
    "from sklearn.model_selection import train_test_split\n",
    "\n",
    "cst_train, cst_test = train_test_split(cst, test_size = 0.2, random_state = 42)\n",
    "\n",
    "# might try stratified by first categorizing income classes,\n",
    "# will see after checking feature importance\n",
    "\n",
    "\n",
    "train_labels = cst_train.pop('Attrition_Flag')\n",
    "\n",
    "\n",
    "# test = train_labels.to_numpy().copy() ???????"
   ]
  },
  {
   "cell_type": "markdown",
   "id": "52bdd94e",
   "metadata": {},
   "source": [
    "# Encoding Output"
   ]
  },
  {
   "cell_type": "markdown",
   "id": "010b3985",
   "metadata": {},
   "source": [
    "I want Attrited Customers (those who quit their subscription) to be encoded with the value 1"
   ]
  },
  {
   "cell_type": "code",
   "execution_count": 13,
   "id": "fc8b633f",
   "metadata": {},
   "outputs": [],
   "source": [
    "labels_vals = [['Existing Customer', 'Attrited Customer']]"
   ]
  },
  {
   "cell_type": "code",
   "execution_count": 14,
   "id": "f4481ffe",
   "metadata": {},
   "outputs": [
    {
     "data": {
      "text/plain": [
       "array([0., 1., 0., ..., 0., 0., 0.])"
      ]
     },
     "execution_count": 14,
     "metadata": {},
     "output_type": "execute_result"
    }
   ],
   "source": [
    "from sklearn.preprocessing import OrdinalEncoder\n",
    "\n",
    "labels_enc = OrdinalEncoder(categories = labels_vals)\n",
    "train_labels = labels_enc.fit_transform(train_labels.to_numpy().reshape(-1,1))\n",
    "train_labels = train_labels.ravel()\n",
    "train_labels"
   ]
  },
  {
   "cell_type": "markdown",
   "id": "08fe8906",
   "metadata": {},
   "source": [
    "# Handling Categoricals"
   ]
  },
  {
   "cell_type": "code",
   "execution_count": 26,
   "id": "c2917719",
   "metadata": {
    "scrolled": true
   },
   "outputs": [],
   "source": [
    "cst_cat = cst_train.select_dtypes(include = object).copy()\n",
    "\n",
    "#marital status will be classifed through a one-hot classifier\n",
    "mar_st = cst_cat.pop('Marital_Status')\n",
    "\n",
    "cols_cat = list(cst_cat.columns)"
   ]
  },
  {
   "cell_type": "markdown",
   "id": "465c0fe3",
   "metadata": {},
   "source": [
    "Rationale for my choice of encoders:\n",
    "* Gender is binary, hence Ordinal works fine. The value set to one is irrelevant.\n",
    "* Education Level is divided in increasing levels, hence Ordinal is necessary to keep that into account. The same goes for Income Category and Card Category"
   ]
  },
  {
   "cell_type": "code",
   "execution_count": 27,
   "id": "9396d564",
   "metadata": {
    "scrolled": true
   },
   "outputs": [
    {
     "data": {
      "text/html": [
       "<div>\n",
       "<style scoped>\n",
       "    .dataframe tbody tr th:only-of-type {\n",
       "        vertical-align: middle;\n",
       "    }\n",
       "\n",
       "    .dataframe tbody tr th {\n",
       "        vertical-align: top;\n",
       "    }\n",
       "\n",
       "    .dataframe thead th {\n",
       "        text-align: right;\n",
       "    }\n",
       "</style>\n",
       "<table border=\"1\" class=\"dataframe\">\n",
       "  <thead>\n",
       "    <tr style=\"text-align: right;\">\n",
       "      <th></th>\n",
       "      <th>Gender</th>\n",
       "      <th>Education_Level</th>\n",
       "      <th>Income_Category</th>\n",
       "      <th>Card_Category</th>\n",
       "    </tr>\n",
       "  </thead>\n",
       "  <tbody>\n",
       "    <tr>\n",
       "      <th>9066</th>\n",
       "      <td>F</td>\n",
       "      <td>NaN</td>\n",
       "      <td>NaN</td>\n",
       "      <td>Blue</td>\n",
       "    </tr>\n",
       "    <tr>\n",
       "      <th>5814</th>\n",
       "      <td>F</td>\n",
       "      <td>High School</td>\n",
       "      <td>NaN</td>\n",
       "      <td>Blue</td>\n",
       "    </tr>\n",
       "    <tr>\n",
       "      <th>792</th>\n",
       "      <td>F</td>\n",
       "      <td>NaN</td>\n",
       "      <td>Less than $40K</td>\n",
       "      <td>Gold</td>\n",
       "    </tr>\n",
       "    <tr>\n",
       "      <th>1791</th>\n",
       "      <td>F</td>\n",
       "      <td>Graduate</td>\n",
       "      <td>Less than $40K</td>\n",
       "      <td>Blue</td>\n",
       "    </tr>\n",
       "    <tr>\n",
       "      <th>5011</th>\n",
       "      <td>F</td>\n",
       "      <td>High School</td>\n",
       "      <td>$40K - $60K</td>\n",
       "      <td>Blue</td>\n",
       "    </tr>\n",
       "  </tbody>\n",
       "</table>\n",
       "</div>"
      ],
      "text/plain": [
       "     Gender Education_Level Income_Category Card_Category\n",
       "9066      F             NaN             NaN          Blue\n",
       "5814      F     High School             NaN          Blue\n",
       "792       F             NaN  Less than $40K          Gold\n",
       "1791      F        Graduate  Less than $40K          Blue\n",
       "5011      F     High School     $40K - $60K          Blue"
      ]
     },
     "execution_count": 27,
     "metadata": {},
     "output_type": "execute_result"
    }
   ],
   "source": [
    "cst_cat.head()"
   ]
  },
  {
   "cell_type": "markdown",
   "id": "720fa1cf",
   "metadata": {},
   "source": [
    "### Ordinal Encoding"
   ]
  },
  {
   "cell_type": "code",
   "execution_count": 28,
   "id": "f4c6dcad",
   "metadata": {},
   "outputs": [],
   "source": [
    "#defining categories manually allows me to choose how the values are mapped\n",
    "categories = [\n",
    " ['M', 'F'],\n",
    " ['Uneducated','High School','College',  'Graduate',  'Post-Graduate','Doctorate',np.nan],\n",
    " ['Less than $40K','$40K - $60K', '$60K - $80K', '$80K - $120K','$120K +',np.nan],\n",
    " ['Blue', 'Silver', 'Gold', 'Platinum']]"
   ]
  },
  {
   "cell_type": "code",
   "execution_count": 29,
   "id": "8709a6eb",
   "metadata": {
    "scrolled": true
   },
   "outputs": [
    {
     "data": {
      "text/html": [
       "<div>\n",
       "<style scoped>\n",
       "    .dataframe tbody tr th:only-of-type {\n",
       "        vertical-align: middle;\n",
       "    }\n",
       "\n",
       "    .dataframe tbody tr th {\n",
       "        vertical-align: top;\n",
       "    }\n",
       "\n",
       "    .dataframe thead th {\n",
       "        text-align: right;\n",
       "    }\n",
       "</style>\n",
       "<table border=\"1\" class=\"dataframe\">\n",
       "  <thead>\n",
       "    <tr style=\"text-align: right;\">\n",
       "      <th></th>\n",
       "      <th>Gender</th>\n",
       "      <th>Education_Level</th>\n",
       "      <th>Income_Category</th>\n",
       "      <th>Card_Category</th>\n",
       "    </tr>\n",
       "  </thead>\n",
       "  <tbody>\n",
       "    <tr>\n",
       "      <th>9066</th>\n",
       "      <td>1.0</td>\n",
       "      <td>NaN</td>\n",
       "      <td>NaN</td>\n",
       "      <td>0.0</td>\n",
       "    </tr>\n",
       "    <tr>\n",
       "      <th>5814</th>\n",
       "      <td>1.0</td>\n",
       "      <td>1.0</td>\n",
       "      <td>NaN</td>\n",
       "      <td>0.0</td>\n",
       "    </tr>\n",
       "    <tr>\n",
       "      <th>792</th>\n",
       "      <td>1.0</td>\n",
       "      <td>NaN</td>\n",
       "      <td>0.0</td>\n",
       "      <td>2.0</td>\n",
       "    </tr>\n",
       "    <tr>\n",
       "      <th>1791</th>\n",
       "      <td>1.0</td>\n",
       "      <td>3.0</td>\n",
       "      <td>0.0</td>\n",
       "      <td>0.0</td>\n",
       "    </tr>\n",
       "    <tr>\n",
       "      <th>5011</th>\n",
       "      <td>1.0</td>\n",
       "      <td>1.0</td>\n",
       "      <td>1.0</td>\n",
       "      <td>0.0</td>\n",
       "    </tr>\n",
       "  </tbody>\n",
       "</table>\n",
       "</div>"
      ],
      "text/plain": [
       "      Gender  Education_Level  Income_Category  Card_Category\n",
       "9066     1.0              NaN              NaN            0.0\n",
       "5814     1.0              1.0              NaN            0.0\n",
       "792      1.0              NaN              0.0            2.0\n",
       "1791     1.0              3.0              0.0            0.0\n",
       "5011     1.0              1.0              1.0            0.0"
      ]
     },
     "execution_count": 29,
     "metadata": {},
     "output_type": "execute_result"
    }
   ],
   "source": [
    "# creating instance of OrdinalEncoder\n",
    "ord_enc = OrdinalEncoder(categories = categories)\n",
    "\n",
    "# fitting the train set and applying the encoder\n",
    "cst_cat_transformed = ord_enc.fit_transform(cst_cat)\n",
    "\n",
    "# this is just to visualize the effects\n",
    "cst_cat_transformed = pd.DataFrame(cst_cat_transformed, columns = cols_cat, index = cst_cat.index)\n",
    "cst_cat_transformed.head()"
   ]
  },
  {
   "cell_type": "markdown",
   "id": "0baca1b2",
   "metadata": {},
   "source": [
    "### One-Hot Encoding"
   ]
  },
  {
   "cell_type": "code",
   "execution_count": 30,
   "id": "4011ae53",
   "metadata": {},
   "outputs": [],
   "source": [
    "# trick to make the encoder work with only one feature (FIX?)\n",
    "mar_st_array = mar_st.to_numpy().reshape(-1,1)"
   ]
  },
  {
   "cell_type": "code",
   "execution_count": 32,
   "id": "4b7f8bb8",
   "metadata": {
    "scrolled": true
   },
   "outputs": [
    {
     "data": {
      "text/html": [
       "<div>\n",
       "<style scoped>\n",
       "    .dataframe tbody tr th:only-of-type {\n",
       "        vertical-align: middle;\n",
       "    }\n",
       "\n",
       "    .dataframe tbody tr th {\n",
       "        vertical-align: top;\n",
       "    }\n",
       "\n",
       "    .dataframe thead tr th {\n",
       "        text-align: left;\n",
       "    }\n",
       "</style>\n",
       "<table border=\"1\" class=\"dataframe\">\n",
       "  <thead>\n",
       "    <tr>\n",
       "      <th></th>\n",
       "      <th>Married</th>\n",
       "      <th>Single</th>\n",
       "      <th>Divorced</th>\n",
       "    </tr>\n",
       "  </thead>\n",
       "  <tbody>\n",
       "    <tr>\n",
       "      <th>9066</th>\n",
       "      <td>0.0</td>\n",
       "      <td>1.0</td>\n",
       "      <td>0.0</td>\n",
       "    </tr>\n",
       "    <tr>\n",
       "      <th>5814</th>\n",
       "      <td>1.0</td>\n",
       "      <td>0.0</td>\n",
       "      <td>0.0</td>\n",
       "    </tr>\n",
       "    <tr>\n",
       "      <th>792</th>\n",
       "      <td>0.0</td>\n",
       "      <td>1.0</td>\n",
       "      <td>0.0</td>\n",
       "    </tr>\n",
       "    <tr>\n",
       "      <th>1791</th>\n",
       "      <td>0.0</td>\n",
       "      <td>1.0</td>\n",
       "      <td>0.0</td>\n",
       "    </tr>\n",
       "    <tr>\n",
       "      <th>5011</th>\n",
       "      <td>1.0</td>\n",
       "      <td>0.0</td>\n",
       "      <td>0.0</td>\n",
       "    </tr>\n",
       "  </tbody>\n",
       "</table>\n",
       "</div>"
      ],
      "text/plain": [
       "     Married Single Divorced\n",
       "9066     0.0    1.0      0.0\n",
       "5814     1.0    0.0      0.0\n",
       "792      0.0    1.0      0.0\n",
       "1791     0.0    1.0      0.0\n",
       "5011     1.0    0.0      0.0"
      ]
     },
     "execution_count": 32,
     "metadata": {},
     "output_type": "execute_result"
    }
   ],
   "source": [
    "from sklearn.preprocessing import OneHotEncoder\n",
    "\n",
    "#creating instance of the encoder\n",
    "ohe = OneHotEncoder(categories = [['Married','Single','Divorced']],sparse = False, handle_unknown = 'ignore')\n",
    "\n",
    "#fitting and transformation\n",
    "mar_st_1hot_array = ohe.fit_transform(mar_st_array)\n",
    "\n",
    "\n",
    "# visualization\n",
    "mar_st_1hot = pd.DataFrame(mar_st_1hot_array, columns = list(ohe.categories_), index = mar_st.index)\n",
    "mar_st_1hot.head()"
   ]
  },
  {
   "cell_type": "markdown",
   "id": "2612d74e",
   "metadata": {},
   "source": [
    "# Handling Missing Values"
   ]
  },
  {
   "cell_type": "markdown",
   "id": "e2b225d3",
   "metadata": {},
   "source": [
    "Since a lot of useful info would be lost by simply getting rid of missing values, I decided to simply replace them with the median"
   ]
  },
  {
   "cell_type": "code",
   "execution_count": 35,
   "id": "e257c7f6",
   "metadata": {
    "scrolled": true
   },
   "outputs": [
    {
     "name": "stdout",
     "output_type": "stream",
     "text": [
      "imputer strategy: median\n",
      "<class 'pandas.core.frame.DataFrame'>\n",
      "Int64Index: 8101 entries, 9066 to 7270\n",
      "Data columns (total 4 columns):\n",
      " #   Column           Non-Null Count  Dtype  \n",
      "---  ------           --------------  -----  \n",
      " 0   Gender           8101 non-null   float64\n",
      " 1   Education_Level  8101 non-null   float64\n",
      " 2   Income_Category  8101 non-null   float64\n",
      " 3   Card_Category    8101 non-null   float64\n",
      "dtypes: float64(4)\n",
      "memory usage: 316.4 KB\n"
     ]
    }
   ],
   "source": [
    "from sklearn.impute import SimpleImputer\n",
    "\n",
    "imputer = SimpleImputer(strategy = 'median')\n",
    "cst_cat_transformed = pd.DataFrame(imputer.fit_transform(cst_cat_transformed),columns = cols_cat, index = cst_cat.index)\n",
    "\n",
    "print(f'imputer strategy: {imputer.strategy}')\n",
    "cst_cat_transformed.info()"
   ]
  },
  {
   "cell_type": "markdown",
   "id": "f2664c19",
   "metadata": {},
   "source": [
    "# Creating a Pipeline"
   ]
  },
  {
   "cell_type": "markdown",
   "id": "7a2637f4",
   "metadata": {},
   "source": [
    "* ### Pipeline for ordinal categoricals:\n",
    "    1. transform to numeric\n",
    "    2. impute NaNs to median\n",
    "   \n",
    "* ### Pipeline for one-hot categoricals:\n",
    "    1. transform to multiple attributes \n",
    "       (ignore unknowns)\n"
   ]
  },
  {
   "cell_type": "code",
   "execution_count": 36,
   "id": "dd6f187b",
   "metadata": {},
   "outputs": [],
   "source": [
    "#I used this just for testing\n",
    "\n",
    "def do_nothing(X):\n",
    "    return X\n",
    "\n",
    "null_transformer = FunctionTransformer(do_nothing)"
   ]
  },
  {
   "cell_type": "code",
   "execution_count": 37,
   "id": "6492adf1",
   "metadata": {},
   "outputs": [],
   "source": [
    "from sklearn.pipeline import Pipeline\n",
    "from sklearn.compose import ColumnTransformer\n",
    "from sklearn.preprocessing import StandardScaler\n",
    "\n",
    "#selecting attributes that are processed differently\n",
    "cst_num = cst.select_dtypes(include = [np.number])\n",
    "num_attribs = list(cst_num)\n",
    "cat_ord_attribs = list(cst_cat)\n",
    "cat_1h_attribs = ['Marital_Status']\n",
    "\n",
    "\n",
    "# pipeline for ordinal categoricals\n",
    "ord_pipeline = Pipeline([\n",
    "    ('encoder', OrdinalEncoder(categories = categories)),\n",
    "    ('imputer', SimpleImputer(strategy = 'median'))\n",
    "])\n",
    "\n",
    "\n",
    "# full pipeline:\n",
    "full_pipeline = ColumnTransformer([\n",
    "    ('num', StandardScaler(), num_attribs),\n",
    "    ('ord', ord_pipeline, cat_ord_attribs),\n",
    "    ('1hot', OneHotEncoder(categories = [['Married','Single','Divorced']],sparse = False, handle_unknown = 'ignore'), cat_1h_attribs)  \n",
    "])\n",
    "\n",
    "\n"
   ]
  },
  {
   "cell_type": "markdown",
   "id": "8650e16e",
   "metadata": {},
   "source": [
    "## Testing the Pipeline"
   ]
  },
  {
   "cell_type": "code",
   "execution_count": 38,
   "id": "413760ad",
   "metadata": {},
   "outputs": [
    {
     "data": {
      "text/html": [
       "<div>\n",
       "<style scoped>\n",
       "    .dataframe tbody tr th:only-of-type {\n",
       "        vertical-align: middle;\n",
       "    }\n",
       "\n",
       "    .dataframe tbody tr th {\n",
       "        vertical-align: top;\n",
       "    }\n",
       "\n",
       "    .dataframe thead th {\n",
       "        text-align: right;\n",
       "    }\n",
       "</style>\n",
       "<table border=\"1\" class=\"dataframe\">\n",
       "  <thead>\n",
       "    <tr style=\"text-align: right;\">\n",
       "      <th></th>\n",
       "      <th>Customer_Age</th>\n",
       "      <th>Gender</th>\n",
       "      <th>Dependent_count</th>\n",
       "      <th>Education_Level</th>\n",
       "      <th>Marital_Status</th>\n",
       "      <th>Income_Category</th>\n",
       "      <th>Card_Category</th>\n",
       "      <th>Total_Relationship_Count</th>\n",
       "      <th>Months_Inactive_12_mon</th>\n",
       "      <th>Contacts_Count_12_mon</th>\n",
       "      <th>Credit_Limit</th>\n",
       "      <th>Total_Revolving_Bal</th>\n",
       "      <th>Total_Amt_Chng_Q4_Q1</th>\n",
       "      <th>Total_Trans_Amt</th>\n",
       "      <th>Total_Trans_Ct</th>\n",
       "      <th>Total_Ct_Chng_Q4_Q1</th>\n",
       "    </tr>\n",
       "  </thead>\n",
       "  <tbody>\n",
       "    <tr>\n",
       "      <th>9066</th>\n",
       "      <td>54</td>\n",
       "      <td>F</td>\n",
       "      <td>1</td>\n",
       "      <td>NaN</td>\n",
       "      <td>Single</td>\n",
       "      <td>NaN</td>\n",
       "      <td>Blue</td>\n",
       "      <td>1</td>\n",
       "      <td>3</td>\n",
       "      <td>3</td>\n",
       "      <td>3723.0</td>\n",
       "      <td>1728</td>\n",
       "      <td>0.595</td>\n",
       "      <td>8554</td>\n",
       "      <td>99</td>\n",
       "      <td>0.678</td>\n",
       "    </tr>\n",
       "    <tr>\n",
       "      <th>5814</th>\n",
       "      <td>58</td>\n",
       "      <td>F</td>\n",
       "      <td>4</td>\n",
       "      <td>High School</td>\n",
       "      <td>Married</td>\n",
       "      <td>NaN</td>\n",
       "      <td>Blue</td>\n",
       "      <td>1</td>\n",
       "      <td>4</td>\n",
       "      <td>3</td>\n",
       "      <td>5396.0</td>\n",
       "      <td>1803</td>\n",
       "      <td>0.493</td>\n",
       "      <td>2107</td>\n",
       "      <td>39</td>\n",
       "      <td>0.393</td>\n",
       "    </tr>\n",
       "    <tr>\n",
       "      <th>792</th>\n",
       "      <td>45</td>\n",
       "      <td>F</td>\n",
       "      <td>4</td>\n",
       "      <td>NaN</td>\n",
       "      <td>Single</td>\n",
       "      <td>Less than $40K</td>\n",
       "      <td>Gold</td>\n",
       "      <td>6</td>\n",
       "      <td>1</td>\n",
       "      <td>3</td>\n",
       "      <td>15987.0</td>\n",
       "      <td>1648</td>\n",
       "      <td>0.732</td>\n",
       "      <td>1436</td>\n",
       "      <td>36</td>\n",
       "      <td>1.250</td>\n",
       "    </tr>\n",
       "    <tr>\n",
       "      <th>1791</th>\n",
       "      <td>34</td>\n",
       "      <td>F</td>\n",
       "      <td>2</td>\n",
       "      <td>Graduate</td>\n",
       "      <td>Single</td>\n",
       "      <td>Less than $40K</td>\n",
       "      <td>Blue</td>\n",
       "      <td>4</td>\n",
       "      <td>3</td>\n",
       "      <td>4</td>\n",
       "      <td>3625.0</td>\n",
       "      <td>2517</td>\n",
       "      <td>1.158</td>\n",
       "      <td>2616</td>\n",
       "      <td>46</td>\n",
       "      <td>1.300</td>\n",
       "    </tr>\n",
       "    <tr>\n",
       "      <th>5011</th>\n",
       "      <td>49</td>\n",
       "      <td>F</td>\n",
       "      <td>2</td>\n",
       "      <td>High School</td>\n",
       "      <td>Married</td>\n",
       "      <td>$40K - $60K</td>\n",
       "      <td>Blue</td>\n",
       "      <td>5</td>\n",
       "      <td>3</td>\n",
       "      <td>4</td>\n",
       "      <td>2720.0</td>\n",
       "      <td>1926</td>\n",
       "      <td>0.602</td>\n",
       "      <td>3806</td>\n",
       "      <td>61</td>\n",
       "      <td>0.794</td>\n",
       "    </tr>\n",
       "  </tbody>\n",
       "</table>\n",
       "</div>"
      ],
      "text/plain": [
       "      Customer_Age Gender  Dependent_count Education_Level Marital_Status  \\\n",
       "9066            54      F                1             NaN         Single   \n",
       "5814            58      F                4     High School        Married   \n",
       "792             45      F                4             NaN         Single   \n",
       "1791            34      F                2        Graduate         Single   \n",
       "5011            49      F                2     High School        Married   \n",
       "\n",
       "     Income_Category Card_Category  Total_Relationship_Count  \\\n",
       "9066             NaN          Blue                         1   \n",
       "5814             NaN          Blue                         1   \n",
       "792   Less than $40K          Gold                         6   \n",
       "1791  Less than $40K          Blue                         4   \n",
       "5011     $40K - $60K          Blue                         5   \n",
       "\n",
       "      Months_Inactive_12_mon  Contacts_Count_12_mon  Credit_Limit  \\\n",
       "9066                       3                      3        3723.0   \n",
       "5814                       4                      3        5396.0   \n",
       "792                        1                      3       15987.0   \n",
       "1791                       3                      4        3625.0   \n",
       "5011                       3                      4        2720.0   \n",
       "\n",
       "      Total_Revolving_Bal  Total_Amt_Chng_Q4_Q1  Total_Trans_Amt  \\\n",
       "9066                 1728                 0.595             8554   \n",
       "5814                 1803                 0.493             2107   \n",
       "792                  1648                 0.732             1436   \n",
       "1791                 2517                 1.158             2616   \n",
       "5011                 1926                 0.602             3806   \n",
       "\n",
       "      Total_Trans_Ct  Total_Ct_Chng_Q4_Q1  \n",
       "9066              99                0.678  \n",
       "5814              39                0.393  \n",
       "792               36                1.250  \n",
       "1791              46                1.300  \n",
       "5011              61                0.794  "
      ]
     },
     "execution_count": 38,
     "metadata": {},
     "output_type": "execute_result"
    }
   ],
   "source": [
    "cst_prepared = cst_train.copy()\n",
    "cst_prepared.head()"
   ]
  },
  {
   "cell_type": "code",
   "execution_count": 39,
   "id": "aeda35df",
   "metadata": {
    "scrolled": true
   },
   "outputs": [
    {
     "data": {
      "text/plain": [
       "array([[ 0.95906107, -1.03512207, -1.81295159, ...,  0.        ,\n",
       "         1.        ,  0.        ],\n",
       "       [ 1.45768789,  1.29138969, -1.81295159, ...,  1.        ,\n",
       "         0.        ,  0.        ],\n",
       "       [-0.16284927,  1.29138969,  1.40923376, ...,  0.        ,\n",
       "         1.        ,  0.        ],\n",
       "       ...,\n",
       "       [-0.53681938,  1.29138969, -0.52407745, ...,  0.        ,\n",
       "         0.        ,  0.        ],\n",
       "       [-0.78613279,  0.51588577,  0.12035962, ...,  0.        ,\n",
       "         1.        ,  0.        ],\n",
       "       [ 0.83440437,  1.29138969,  0.76479669, ...,  0.        ,\n",
       "         1.        ,  0.        ]])"
      ]
     },
     "execution_count": 39,
     "metadata": {},
     "output_type": "execute_result"
    }
   ],
   "source": [
    "cst_prepared = full_pipeline.fit_transform(cst_prepared)\n",
    "cst_prepared"
   ]
  },
  {
   "cell_type": "code",
   "execution_count": 40,
   "id": "7c81a4a3",
   "metadata": {},
   "outputs": [
    {
     "data": {
      "text/plain": [
       "<matplotlib.colorbar.Colorbar at 0x21cbb5b7c10>"
      ]
     },
     "execution_count": 40,
     "metadata": {},
     "output_type": "execute_result"
    },
    {
     "data": {
      "image/png": "[encoded data removed]",
      "text/plain": [
       "<Figure size 288x288 with 2 Axes>"
      ]
     },
     "metadata": {
      "needs_background": "light"
     },
     "output_type": "display_data"
    }
   ],
   "source": [
    "corr_m = pd.DataFrame(cst_prepared).corr()\n",
    "plt.matshow(corr_m, cmap = 'jet')\n",
    "plt.colorbar()"
   ]
  },
  {
   "cell_type": "code",
   "execution_count": 42,
   "id": "e4f3eb42",
   "metadata": {},
   "outputs": [],
   "source": [
    "# Some features are highly correlated, fix???"
   ]
  },
  {
   "cell_type": "markdown",
   "id": "8fb4f804",
   "metadata": {},
   "source": [
    "# Model Selection"
   ]
  },
  {
   "cell_type": "code",
   "execution_count": 44,
   "id": "7b617b66",
   "metadata": {},
   "outputs": [],
   "source": [
    "from sklearn.ensemble import RandomForestClassifier\n",
    "from sklearn.svm import SVC\n",
    "# also try svm!!!\n",
    "from sklearn.calibration import CalibratedClassifierCV as calib_clf\n"
   ]
  },
  {
   "cell_type": "code",
   "execution_count": 45,
   "id": "c15756c7",
   "metadata": {
    "scrolled": true
   },
   "outputs": [
    {
     "data": {
      "text/plain": [
       "CalibratedClassifierCV(base_estimator=RandomForestClassifier(), cv=5)"
      ]
     },
     "execution_count": 45,
     "metadata": {},
     "output_type": "execute_result"
    }
   ],
   "source": [
    "# TODO: add explanation for choice of classifier\n",
    "rf_clf = RandomForestClassifier()\n",
    "prob_clf = calib_clf(base_estimator = rf_clf, method = 'sigmoid', cv = 5)\n",
    "\n",
    "prob_clf.fit(cst_prepared, train_labels)\n"
   ]
  },
  {
   "cell_type": "code",
   "execution_count": 46,
   "id": "a89d676e",
   "metadata": {},
   "outputs": [],
   "source": [
    "#TODO\n",
    "    #gridsearch on the hyper-parameters? randomsearch?"
   ]
  },
  {
   "cell_type": "markdown",
   "id": "df82939b",
   "metadata": {},
   "source": [
    "# Classification"
   ]
  },
  {
   "cell_type": "code",
   "execution_count": 172,
   "id": "7f97c5ce",
   "metadata": {},
   "outputs": [],
   "source": [
    "#features\n",
    "cst_test_prepared = cst_test.copy()\n",
    "#labels\n",
    "test_labels = cst_test_prepared.pop('Attrition_Flag')"
   ]
  },
  {
   "cell_type": "code",
   "execution_count": 191,
   "id": "1b103398",
   "metadata": {},
   "outputs": [
    {
     "data": {
      "text/plain": [
       "array([0., 0., 0., ..., 0., 0., 0.])"
      ]
     },
     "execution_count": 191,
     "metadata": {},
     "output_type": "execute_result"
    }
   ],
   "source": [
    "#encoding labels\n",
    "test_labels = labels_enc.fit_transform(test_labels.to_numpy().reshape(-1,1))\n",
    "test_labels = test_labels.ravel()\n",
    "test_labels"
   ]
  },
  {
   "cell_type": "code",
   "execution_count": 174,
   "id": "a593208f",
   "metadata": {
    "scrolled": true
   },
   "outputs": [
    {
     "data": {
      "text/plain": [
       "array([[ 0.19963272,  0.45562541,  0.12145272, ...,  0.        ,\n",
       "         1.        ,  0.        ],\n",
       "       [ 1.57575857, -1.04290882,  0.76057793, ...,  0.        ,\n",
       "         1.        ,  0.        ],\n",
       "       [-1.17649312, -0.2936417 ,  0.12145272, ...,  0.        ,\n",
       "         0.        ,  1.        ],\n",
       "       ...,\n",
       "       [-0.30077668, -1.04290882, -1.79592291, ...,  0.        ,\n",
       "         0.        ,  1.        ],\n",
       "       [-2.42751662, -1.79217594,  1.39970314, ...,  0.        ,\n",
       "         1.        ,  0.        ],\n",
       "       [-0.92628842, -1.79217594, -1.79592291, ...,  0.        ,\n",
       "         1.        ,  0.        ]])"
      ]
     },
     "execution_count": 174,
     "metadata": {},
     "output_type": "execute_result"
    }
   ],
   "source": [
    "#processing features\n",
    "cst_test_prepared = full_pipeline.fit_transform(cst_test_prepared)\n",
    "cst_test_prepared"
   ]
  },
  {
   "cell_type": "code",
   "execution_count": 186,
   "id": "7acf5fcf",
   "metadata": {},
   "outputs": [],
   "source": [
    "#running the model\n",
    "predictions = prob_clf.predict(cst_test_prepared)"
   ]
  },
  {
   "cell_type": "markdown",
   "id": "5fdb74e3",
   "metadata": {},
   "source": [
    "# Performance Assessement"
   ]
  },
  {
   "cell_type": "markdown",
   "id": "324e9c27",
   "metadata": {},
   "source": [
    "## Manual"
   ]
  },
  {
   "cell_type": "code",
   "execution_count": 193,
   "id": "1d9ed001",
   "metadata": {},
   "outputs": [
    {
     "data": {
      "text/plain": [
       "array([0.96495558])"
      ]
     },
     "execution_count": 193,
     "metadata": {},
     "output_type": "execute_result"
    }
   ],
   "source": [
    "#my accuracy\n",
    "np.sum(predictions == test_labels)/predictions.shape"
   ]
  },
  {
   "cell_type": "code",
   "execution_count": 195,
   "id": "84544e54",
   "metadata": {},
   "outputs": [
    {
     "data": {
      "text/plain": [
       "array([0.83859822])"
      ]
     },
     "execution_count": 195,
     "metadata": {},
     "output_type": "execute_result"
    }
   ],
   "source": [
    "#accuracy with a stupid classifier\n",
    "1-(np.sum(test_labels)/predictions.shape)"
   ]
  },
  {
   "cell_type": "markdown",
   "id": "19028a94",
   "metadata": {},
   "source": [
    "## Precision and Recall"
   ]
  },
  {
   "cell_type": "code",
   "execution_count": 201,
   "id": "cbf01910",
   "metadata": {},
   "outputs": [],
   "source": [
    "from sklearn.metrics import precision_score, recall_score, f1_score"
   ]
  },
  {
   "cell_type": "code",
   "execution_count": 198,
   "id": "2ced8d1f",
   "metadata": {},
   "outputs": [
    {
     "data": {
      "text/plain": [
       "0.9155844155844156"
      ]
     },
     "execution_count": 198,
     "metadata": {},
     "output_type": "execute_result"
    }
   ],
   "source": [
    "# % predicted positives that are actually positives\n",
    "precision_score(test_labels, predictions)"
   ]
  },
  {
   "cell_type": "code",
   "execution_count": 199,
   "id": "a43b0887",
   "metadata": {},
   "outputs": [
    {
     "data": {
      "text/plain": [
       "0.8623853211009175"
      ]
     },
     "execution_count": 199,
     "metadata": {},
     "output_type": "execute_result"
    }
   ],
   "source": [
    "# % positives that are \"found\" (predicted correctly)\n",
    "recall_score(test_labels, predictions)"
   ]
  },
  {
   "cell_type": "markdown",
   "id": "9ae48720",
   "metadata": {},
   "source": [
    "## Advanced Metrics"
   ]
  },
  {
   "cell_type": "code",
   "execution_count": 202,
   "id": "2d3d27cc",
   "metadata": {},
   "outputs": [
    {
     "data": {
      "text/plain": [
       "0.8881889763779528"
      ]
     },
     "execution_count": 202,
     "metadata": {},
     "output_type": "execute_result"
    }
   ],
   "source": [
    "# combined statistic\n",
    "f1_score(test_labels, predictions)"
   ]
  },
  {
   "cell_type": "code",
   "execution_count": null,
   "id": "c4bfe92b",
   "metadata": {},
   "outputs": [],
   "source": []
  },
  {
   "cell_type": "code",
   "execution_count": null,
   "id": "b1a4465f",
   "metadata": {},
   "outputs": [],
   "source": []
  }
 ],
 "metadata": {
  "kernelspec": {
   "display_name": "Python 3 (ipykernel)",
   "language": "python",
   "name": "python3"
  },
  "language_info": {
   "codemirror_mode": {
    "name": "ipython",
    "version": 3
   },
   "file_extension": ".py",
   "mimetype": "text/x-python",
   "name": "python",
   "nbconvert_exporter": "python",
   "pygments_lexer": "ipython3",
   "version": "3.8.8"
  }
 },
 "nbformat": 4,
 "nbformat_minor": 5
}
